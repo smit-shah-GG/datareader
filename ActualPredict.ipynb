{
 "cells": [
  {
   "cell_type": "code",
   "execution_count": 2,
   "metadata": {},
   "outputs": [],
   "source": [
    "import numpy as np\n",
    "import matplotlib.pyplot as plt\n",
    "import pandas as pd\n",
    "import pandas_datareader as web\n",
    "import datetime as dt\n",
    "\n",
    "from sklearn.preprocessing import MinMaxScaler\n",
    "from keras.models import Sequential\n",
    "from keras.layers import Dropout, LSTM, Dense"
   ]
  },
  {
   "cell_type": "code",
   "execution_count": 3,
   "metadata": {},
   "outputs": [],
   "source": [
    "company = 'AAPL'\n",
    "\n",
    "startdate = dt.datetime(2010,1,1)\n",
    "enddate = dt.datetime(2020,1,1)\n"
   ]
  },
  {
   "cell_type": "code",
   "execution_count": 4,
   "metadata": {},
   "outputs": [],
   "source": [
    "data = web.DataReader(company, 'yahoo', startdate, enddate)\n"
   ]
  },
  {
   "cell_type": "code",
   "execution_count": 5,
   "metadata": {},
   "outputs": [],
   "source": [
    "scaler = MinMaxScaler(feature_range= (0,1))\n",
    "scaled_data = scaler.fit_transform(data['Close'].values.reshape(-1,1))"
   ]
  },
  {
   "cell_type": "code",
   "execution_count": 6,
   "metadata": {},
   "outputs": [],
   "source": [
    "prediction_days = 120\n",
    "\n",
    "x_train = []\n",
    "y_train = []\n",
    "\n",
    "for x in range(prediction_days, len(scaled_data)):\n",
    "    x_train.append(scaled_data[x - prediction_days:x, 0])\n",
    "    y_train.append(scaled_data[x, 0])\n",
    "\n",
    "x_train = np.array(x_train)\n",
    "y_train = np.array(y_train)\n",
    "x_train = np.reshape(x_train, (x_train.shape[0], x_train.shape[1], 1))"
   ]
  },
  {
   "cell_type": "code",
   "execution_count": 7,
   "metadata": {},
   "outputs": [
    {
     "name": "stdout",
     "output_type": "stream",
     "text": [
      "Epoch 1/100\n",
      "38/38 [==============================] - 11s 75ms/step - loss: 0.0428\n",
      "Epoch 2/100\n",
      "38/38 [==============================] - 3s 77ms/step - loss: 0.0033\n",
      "Epoch 3/100\n",
      "38/38 [==============================] - 3s 69ms/step - loss: 0.0025\n",
      "Epoch 4/100\n",
      "38/38 [==============================] - 3s 70ms/step - loss: 0.0022\n",
      "Epoch 5/100\n",
      "38/38 [==============================] - 3s 69ms/step - loss: 0.0020\n",
      "Epoch 6/100\n",
      "38/38 [==============================] - 3s 70ms/step - loss: 0.0019\n",
      "Epoch 7/100\n",
      "38/38 [==============================] - 3s 71ms/step - loss: 0.0018\n",
      "Epoch 8/100\n",
      "38/38 [==============================] - 3s 72ms/step - loss: 0.0017\n",
      "Epoch 9/100\n",
      "38/38 [==============================] - 3s 71ms/step - loss: 0.0016\n",
      "Epoch 10/100\n",
      "38/38 [==============================] - 3s 70ms/step - loss: 0.0015\n",
      "Epoch 11/100\n",
      "38/38 [==============================] - 3s 70ms/step - loss: 0.0014\n",
      "Epoch 12/100\n",
      "38/38 [==============================] - 3s 72ms/step - loss: 0.0014\n",
      "Epoch 13/100\n",
      "38/38 [==============================] - 3s 72ms/step - loss: 0.0013\n",
      "Epoch 14/100\n",
      "38/38 [==============================] - 3s 70ms/step - loss: 0.0013\n",
      "Epoch 15/100\n",
      "38/38 [==============================] - 3s 71ms/step - loss: 0.0013\n",
      "Epoch 16/100\n",
      "38/38 [==============================] - 3s 73ms/step - loss: 0.0012\n",
      "Epoch 17/100\n",
      "38/38 [==============================] - 3s 73ms/step - loss: 0.0013\n",
      "Epoch 18/100\n",
      "38/38 [==============================] - 3s 81ms/step - loss: 0.0012\n",
      "Epoch 19/100\n",
      "38/38 [==============================] - 3s 79ms/step - loss: 0.0013\n",
      "Epoch 20/100\n",
      "38/38 [==============================] - 3s 80ms/step - loss: 0.0011\n",
      "Epoch 21/100\n",
      "38/38 [==============================] - 3s 78ms/step - loss: 0.0012\n",
      "Epoch 22/100\n",
      "38/38 [==============================] - 3s 76ms/step - loss: 0.0011\n",
      "Epoch 23/100\n",
      "38/38 [==============================] - 3s 76ms/step - loss: 0.0012\n",
      "Epoch 24/100\n",
      "38/38 [==============================] - 3s 76ms/step - loss: 0.0011\n",
      "Epoch 25/100\n",
      "38/38 [==============================] - 3s 77ms/step - loss: 0.0011\n",
      "Epoch 26/100\n",
      "38/38 [==============================] - 3s 75ms/step - loss: 0.0011\n",
      "Epoch 27/100\n",
      "38/38 [==============================] - 3s 76ms/step - loss: 0.0011\n",
      "Epoch 28/100\n",
      "38/38 [==============================] - 3s 78ms/step - loss: 0.0010\n",
      "Epoch 29/100\n",
      "38/38 [==============================] - 3s 77ms/step - loss: 9.9645e-04\n",
      "Epoch 30/100\n",
      "38/38 [==============================] - 3s 77ms/step - loss: 0.0011\n",
      "Epoch 31/100\n",
      "38/38 [==============================] - 3s 78ms/step - loss: 9.3542e-04\n",
      "Epoch 32/100\n",
      "38/38 [==============================] - 3s 75ms/step - loss: 9.3509e-04\n",
      "Epoch 33/100\n",
      "38/38 [==============================] - 3s 75ms/step - loss: 0.0011\n",
      "Epoch 34/100\n",
      "38/38 [==============================] - 3s 77ms/step - loss: 9.0127e-04\n",
      "Epoch 35/100\n",
      "38/38 [==============================] - 3s 77ms/step - loss: 9.8395e-04\n",
      "Epoch 36/100\n",
      "38/38 [==============================] - 3s 83ms/step - loss: 9.3804e-04\n",
      "Epoch 37/100\n",
      "38/38 [==============================] - 3s 82ms/step - loss: 9.3585e-04\n",
      "Epoch 38/100\n",
      "38/38 [==============================] - 3s 73ms/step - loss: 9.3995e-04\n",
      "Epoch 39/100\n",
      "38/38 [==============================] - 3s 77ms/step - loss: 8.3722e-04\n",
      "Epoch 40/100\n",
      "38/38 [==============================] - 3s 74ms/step - loss: 9.7544e-04\n",
      "Epoch 41/100\n",
      "38/38 [==============================] - 3s 75ms/step - loss: 9.1478e-04\n",
      "Epoch 42/100\n",
      "38/38 [==============================] - 3s 72ms/step - loss: 8.6738e-04\n",
      "Epoch 43/100\n",
      "38/38 [==============================] - 3s 72ms/step - loss: 8.6425e-04\n",
      "Epoch 44/100\n",
      "38/38 [==============================] - 3s 72ms/step - loss: 8.5023e-04\n",
      "Epoch 45/100\n",
      "38/38 [==============================] - 3s 73ms/step - loss: 7.8422e-04\n",
      "Epoch 46/100\n",
      "38/38 [==============================] - 3s 73ms/step - loss: 7.6176e-04\n",
      "Epoch 47/100\n",
      "38/38 [==============================] - 3s 73ms/step - loss: 7.8323e-04\n",
      "Epoch 48/100\n",
      "38/38 [==============================] - 3s 78ms/step - loss: 8.1257e-04\n",
      "Epoch 49/100\n",
      "38/38 [==============================] - 3s 80ms/step - loss: 7.7823e-04\n",
      "Epoch 50/100\n",
      "38/38 [==============================] - 3s 76ms/step - loss: 7.6243e-04\n",
      "Epoch 51/100\n",
      "38/38 [==============================] - 3s 75ms/step - loss: 7.6548e-04\n",
      "Epoch 52/100\n",
      "38/38 [==============================] - 3s 75ms/step - loss: 8.5593e-04\n",
      "Epoch 53/100\n",
      "38/38 [==============================] - 3s 75ms/step - loss: 8.4752e-04\n",
      "Epoch 54/100\n",
      "38/38 [==============================] - 3s 76ms/step - loss: 7.8788e-04\n",
      "Epoch 55/100\n",
      "38/38 [==============================] - 3s 77ms/step - loss: 8.1851e-04\n",
      "Epoch 56/100\n",
      "38/38 [==============================] - 3s 75ms/step - loss: 8.2790e-04\n",
      "Epoch 57/100\n",
      "38/38 [==============================] - 3s 76ms/step - loss: 9.1326e-04\n",
      "Epoch 58/100\n",
      "38/38 [==============================] - 3s 75ms/step - loss: 6.9127e-04\n",
      "Epoch 59/100\n",
      "38/38 [==============================] - 3s 75ms/step - loss: 6.9251e-04\n",
      "Epoch 60/100\n",
      "38/38 [==============================] - 3s 77ms/step - loss: 7.1000e-04\n",
      "Epoch 61/100\n",
      "38/38 [==============================] - 3s 75ms/step - loss: 6.7269e-04\n",
      "Epoch 62/100\n",
      "38/38 [==============================] - 3s 75ms/step - loss: 7.1777e-04\n",
      "Epoch 63/100\n",
      "38/38 [==============================] - 3s 74ms/step - loss: 6.6215e-04\n",
      "Epoch 64/100\n",
      "38/38 [==============================] - 3s 76ms/step - loss: 6.9294e-04\n",
      "Epoch 65/100\n",
      "38/38 [==============================] - 3s 75ms/step - loss: 6.1021e-04\n",
      "Epoch 66/100\n",
      "38/38 [==============================] - 3s 74ms/step - loss: 6.6099e-04\n",
      "Epoch 67/100\n",
      "38/38 [==============================] - 3s 72ms/step - loss: 6.3311e-04\n",
      "Epoch 68/100\n",
      "38/38 [==============================] - 3s 72ms/step - loss: 7.1737e-04\n",
      "Epoch 69/100\n",
      "38/38 [==============================] - 3s 74ms/step - loss: 6.9298e-04\n",
      "Epoch 70/100\n",
      "38/38 [==============================] - 3s 73ms/step - loss: 6.3417e-04\n",
      "Epoch 71/100\n",
      "38/38 [==============================] - 3s 73ms/step - loss: 6.0542e-04\n",
      "Epoch 72/100\n",
      "38/38 [==============================] - 3s 73ms/step - loss: 6.1519e-04\n",
      "Epoch 73/100\n",
      "38/38 [==============================] - 3s 76ms/step - loss: 6.0945e-04\n",
      "Epoch 74/100\n",
      "38/38 [==============================] - 3s 74ms/step - loss: 6.0806e-04\n",
      "Epoch 75/100\n",
      "38/38 [==============================] - 3s 75ms/step - loss: 6.2727e-04\n",
      "Epoch 76/100\n",
      "38/38 [==============================] - 3s 75ms/step - loss: 6.4679e-04\n",
      "Epoch 77/100\n",
      "38/38 [==============================] - 3s 89ms/step - loss: 6.4253e-04\n",
      "Epoch 78/100\n",
      "38/38 [==============================] - 3s 73ms/step - loss: 6.1210e-04\n",
      "Epoch 79/100\n",
      "38/38 [==============================] - 3s 74ms/step - loss: 6.7510e-04\n",
      "Epoch 80/100\n",
      "38/38 [==============================] - 3s 80ms/step - loss: 6.1506e-04\n",
      "Epoch 81/100\n",
      "38/38 [==============================] - 3s 78ms/step - loss: 5.8159e-04\n",
      "Epoch 82/100\n",
      "38/38 [==============================] - 3s 76ms/step - loss: 5.7926e-04\n",
      "Epoch 83/100\n",
      "38/38 [==============================] - 3s 76ms/step - loss: 6.1456e-04\n",
      "Epoch 84/100\n",
      "38/38 [==============================] - 3s 74ms/step - loss: 5.3964e-04\n",
      "Epoch 85/100\n",
      "38/38 [==============================] - 3s 74ms/step - loss: 5.8200e-04\n",
      "Epoch 86/100\n",
      "38/38 [==============================] - 3s 74ms/step - loss: 5.4625e-04\n",
      "Epoch 87/100\n",
      "38/38 [==============================] - 3s 74ms/step - loss: 5.8559e-04\n",
      "Epoch 88/100\n",
      "38/38 [==============================] - 3s 74ms/step - loss: 6.2700e-04\n",
      "Epoch 89/100\n",
      "38/38 [==============================] - 3s 75ms/step - loss: 5.6436e-04\n",
      "Epoch 90/100\n",
      "38/38 [==============================] - 3s 75ms/step - loss: 5.4824e-04\n",
      "Epoch 91/100\n",
      "38/38 [==============================] - 3s 75ms/step - loss: 6.0318e-04\n",
      "Epoch 92/100\n",
      "38/38 [==============================] - 3s 76ms/step - loss: 5.9652e-04\n",
      "Epoch 93/100\n",
      "38/38 [==============================] - 3s 75ms/step - loss: 5.4852e-04\n",
      "Epoch 94/100\n",
      "38/38 [==============================] - 3s 76ms/step - loss: 5.4997e-04\n",
      "Epoch 95/100\n",
      "38/38 [==============================] - 3s 75ms/step - loss: 5.7947e-04\n",
      "Epoch 96/100\n",
      "38/38 [==============================] - 3s 75ms/step - loss: 4.8814e-04\n",
      "Epoch 97/100\n",
      "38/38 [==============================] - 3s 76ms/step - loss: 5.0739e-04\n",
      "Epoch 98/100\n",
      "38/38 [==============================] - 3s 75ms/step - loss: 4.8168e-04\n",
      "Epoch 99/100\n",
      "38/38 [==============================] - 3s 73ms/step - loss: 5.4995e-04\n",
      "Epoch 100/100\n",
      "38/38 [==============================] - 3s 72ms/step - loss: 5.1955e-04\n"
     ]
    },
    {
     "data": {
      "text/plain": [
       "<keras.callbacks.History at 0x124184113c0>"
      ]
     },
     "execution_count": 7,
     "metadata": {},
     "output_type": "execute_result"
    }
   ],
   "source": [
    "model = Sequential()\n",
    "\n",
    "model.add(LSTM(units = 20, return_sequences = True))\n",
    "model.add(Dropout(0.2))\n",
    "model.add(LSTM(units = 50))\n",
    "model.add(Dropout(0.2))\n",
    "model.add(Dense(units = 1))                                                    #Actual prediction outcome neuron\n",
    "\n",
    "model.compile(optimizer= 'adam', loss= 'mean_squared_error')\n",
    "model.fit(x_train, y_train, epochs= 100, batch_size= 64)"
   ]
  },
  {
   "cell_type": "code",
   "execution_count": 8,
   "metadata": {},
   "outputs": [],
   "source": [
    "teststart = dt.datetime(2020,1,1)\n",
    "testend = dt.datetime.now()\n",
    "\n",
    "test_data = web.DataReader(company, 'yahoo', teststart, testend)\n",
    "actual_prices = test_data['Close'].values"
   ]
  },
  {
   "cell_type": "code",
   "execution_count": 9,
   "metadata": {},
   "outputs": [],
   "source": [
    "total_dataset = pd.concat([data['Close'], test_data['Close']])\n"
   ]
  },
  {
   "cell_type": "code",
   "execution_count": 10,
   "metadata": {},
   "outputs": [],
   "source": [
    "model_inputs = total_dataset[len(total_dataset)- len(test_data) - prediction_days:].values\n",
    "model_inputs = model_inputs.reshape(-1, 1)\n",
    "model_inputs = scaler.transform(model_inputs)"
   ]
  },
  {
   "cell_type": "code",
   "execution_count": 11,
   "metadata": {},
   "outputs": [],
   "source": [
    "x_test = []\n",
    "\n",
    "for x in range(prediction_days, len(model_inputs)):\n",
    "    x_test.append(model_inputs[x - prediction_days:x, 0])\n",
    "\n",
    "x_test = np.array(x_test)\n",
    "x_test = np.reshape(x_test, (x_test.shape[0], x_test.shape[1], 1))"
   ]
  },
  {
   "cell_type": "code",
   "execution_count": 12,
   "metadata": {},
   "outputs": [],
   "source": [
    "predicted_prices = model.predict(x_test)\n",
    "predicted_prices = scaler.inverse_transform(predicted_prices)"
   ]
  },
  {
   "cell_type": "code",
   "execution_count": 13,
   "metadata": {},
   "outputs": [
    {
     "data": {
      "image/png": "[encoded data removed]",
      "text/plain": [
       "<Figure size 432x288 with 1 Axes>"
      ]
     },
     "metadata": {
      "needs_background": "light"
     },
     "output_type": "display_data"
    }
   ],
   "source": [
    "plt.plot(actual_prices, color= \"black\", label= f\"Actual {company} Prices: \")\n",
    "plt.plot(predicted_prices, color= \"green\", label= f\"Predicted {company} Prices: \")\n",
    "plt.title(f\"{company} Share prices: \")\n",
    "plt.xlabel(\"Time\")\n",
    "plt.ylabel(f\"{company} Share prices\")\n",
    "plt.show()\n"
   ]
  },
  {
   "cell_type": "code",
   "execution_count": 14,
   "metadata": {},
   "outputs": [],
   "source": [
    "real_data = [model_inputs[len(model_inputs) - prediction_days: (len(model_inputs) + 1), 0]]\n",
    "real_data = np.array(real_data)\n",
    "real_data = np.reshape(real_data, (real_data.shape[0], real_data.shape[1], 1))\n"
   ]
  },
  {
   "cell_type": "code",
   "execution_count": 15,
   "metadata": {},
   "outputs": [
    {
     "name": "stdout",
     "output_type": "stream",
     "text": [
      "Prediction: [[160.49025]]\n"
     ]
    }
   ],
   "source": [
    "prediction = model.predict(real_data)\n",
    "prediction = scaler.inverse_transform(prediction)\n",
    "print(f\"Prediction: {prediction}\")\n"
   ]
  }
 ],
 "metadata": {
  "kernelspec": {
   "display_name": "Python 3.10.2 64-bit",
   "language": "python",
   "name": "python3"
  },
  "language_info": {
   "codemirror_mode": {
    "name": "ipython",
    "version": 3
   },
   "file_extension": ".py",
   "mimetype": "text/x-python",
   "name": "python",
   "nbconvert_exporter": "python",
   "pygments_lexer": "ipython3",
   "version": "3.10.2"
  },
  "orig_nbformat": 4,
  "vscode": {
   "interpreter": {
    "hash": "7d3132c63595c5bd9835a7d3d4e82d2178644ed42d28c98d306a1f36334182b0"
   }
  }
 },
 "nbformat": 4,
 "nbformat_minor": 2
}
