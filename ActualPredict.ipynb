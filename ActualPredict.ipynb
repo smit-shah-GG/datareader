{
 "cells": [
  {
   "cell_type": "code",
   "execution_count": 1,
   "metadata": {},
   "outputs": [],
   "source": [
    "import numpy as np\n",
    "import matplotlib.pyplot as plt\n",
    "import pandas as pd\n",
    "import pandas_datareader as web\n",
    "import datetime as dt\n",
    "\n",
    "from sklearn.preprocessing import MinMaxScaler\n",
    "from keras.models import Sequential\n",
    "from keras.layers import Dropout, LSTM, Dense"
   ]
  },
  {
   "cell_type": "code",
   "execution_count": 2,
   "metadata": {},
   "outputs": [],
   "source": [
    "company = 'AAPL'\n",
    "\n",
    "startdate = dt.datetime(2010,1,1)\n",
    "enddate = dt.datetime(2020,1,1)\n"
   ]
  },
  {
   "cell_type": "code",
   "execution_count": 3,
   "metadata": {},
   "outputs": [],
   "source": [
    "data = web.DataReader(company, 'yahoo', startdate, enddate)\n"
   ]
  },
  {
   "cell_type": "code",
   "execution_count": 4,
   "metadata": {},
   "outputs": [],
   "source": [
    "scaler = MinMaxScaler(feature_range= (0,1))\n",
    "scaled_data = scaler.fit_transform(data['Close'].values.reshape(-1,1))"
   ]
  },
  {
   "cell_type": "code",
   "execution_count": 5,
   "metadata": {},
   "outputs": [],
   "source": [
    "prediction_days = 60\n",
    "\n",
    "x_train = []\n",
    "y_train = []\n",
    "\n",
    "for x in range(prediction_days, len(scaled_data)):\n",
    "    x_train.append(scaled_data[x - prediction_days:x, 0])\n",
    "    y_train.append(scaled_data[x, 0])\n",
    "\n",
    "x_train = np.array(x_train)\n",
    "y_train = np.array(y_train)\n",
    "x_train = np.reshape(x_train, (x_train.shape[0], x_train.shape[1], 1))"
   ]
  },
  {
   "cell_type": "code",
   "execution_count": 6,
   "metadata": {},
   "outputs": [
    {
     "name": "stdout",
     "output_type": "stream",
     "text": [
      "Epoch 1/27\n",
      "39/39 [==============================] - 7s 60ms/step - loss: 0.0137\n",
      "Epoch 2/27\n",
      "39/39 [==============================] - 2s 56ms/step - loss: 0.0023\n",
      "Epoch 3/27\n",
      "39/39 [==============================] - 2s 53ms/step - loss: 0.0021\n",
      "Epoch 4/27\n",
      "39/39 [==============================] - 2s 53ms/step - loss: 0.0018\n",
      "Epoch 5/27\n",
      "39/39 [==============================] - 2s 54ms/step - loss: 0.0018\n",
      "Epoch 6/27\n",
      "39/39 [==============================] - 2s 57ms/step - loss: 0.0017\n",
      "Epoch 7/27\n",
      "39/39 [==============================] - 2s 59ms/step - loss: 0.0016\n",
      "Epoch 8/27\n",
      "39/39 [==============================] - 2s 55ms/step - loss: 0.0017\n",
      "Epoch 9/27\n",
      "39/39 [==============================] - 2s 54ms/step - loss: 0.0014\n",
      "Epoch 10/27\n",
      "39/39 [==============================] - 2s 53ms/step - loss: 0.0015\n",
      "Epoch 11/27\n",
      "39/39 [==============================] - 2s 54ms/step - loss: 0.0013\n",
      "Epoch 12/27\n",
      "39/39 [==============================] - 2s 54ms/step - loss: 0.0013\n",
      "Epoch 13/27\n",
      "39/39 [==============================] - 2s 54ms/step - loss: 0.0013\n",
      "Epoch 14/27\n",
      "39/39 [==============================] - 2s 55ms/step - loss: 0.0014\n",
      "Epoch 15/27\n",
      "39/39 [==============================] - 2s 54ms/step - loss: 0.0014\n",
      "Epoch 16/27\n",
      "39/39 [==============================] - 2s 54ms/step - loss: 0.0013\n",
      "Epoch 17/27\n",
      "39/39 [==============================] - 2s 54ms/step - loss: 0.0012\n",
      "Epoch 18/27\n",
      "39/39 [==============================] - 2s 54ms/step - loss: 0.0012\n",
      "Epoch 19/27\n",
      "39/39 [==============================] - 2s 54ms/step - loss: 0.0012\n",
      "Epoch 20/27\n",
      "39/39 [==============================] - 2s 55ms/step - loss: 0.0011\n",
      "Epoch 21/27\n",
      "39/39 [==============================] - 2s 54ms/step - loss: 0.0011\n",
      "Epoch 22/27\n",
      "39/39 [==============================] - 2s 54ms/step - loss: 9.8499e-04\n",
      "Epoch 23/27\n",
      "39/39 [==============================] - 2s 53ms/step - loss: 0.0011\n",
      "Epoch 24/27\n",
      "39/39 [==============================] - 2s 53ms/step - loss: 0.0010\n",
      "Epoch 25/27\n",
      "39/39 [==============================] - 2s 53ms/step - loss: 0.0011\n",
      "Epoch 26/27\n",
      "39/39 [==============================] - 2s 55ms/step - loss: 9.5127e-04\n",
      "Epoch 27/27\n",
      "39/39 [==============================] - 2s 55ms/step - loss: 9.6061e-04\n"
     ]
    },
    {
     "data": {
      "text/plain": [
       "<keras.callbacks.History at 0x28ae23395a0>"
      ]
     },
     "execution_count": 6,
     "metadata": {},
     "output_type": "execute_result"
    }
   ],
   "source": [
    "model = Sequential()\n",
    "\n",
    "model.add(LSTM(units = 50, return_sequences = True, input_shape = (x_train.shape[1], 1)))\n",
    "model.add(Dropout(0.2))\n",
    "model.add(LSTM(units = 50, return_sequences = True))\n",
    "model.add(Dropout(0.2))\n",
    "model.add(LSTM(units = 50))\n",
    "model.add(Dropout(0.2))\n",
    "model.add(Dense(units = 1))                                                    #Actual prediction outcome neuron\n",
    "\n",
    "model.compile(optimizer= 'adam', loss= 'mean_squared_error')\n",
    "model.fit(x_train, y_train, epochs= 27, batch_size= 64)"
   ]
  },
  {
   "cell_type": "code",
   "execution_count": 7,
   "metadata": {},
   "outputs": [],
   "source": [
    "teststart = dt.datetime(2020,1,1)\n",
    "testend = dt.datetime.now()\n",
    "\n",
    "test_data = web.DataReader(company, 'yahoo', teststart, testend)\n",
    "actual_prices = test_data['Close'].values"
   ]
  },
  {
   "cell_type": "code",
   "execution_count": 8,
   "metadata": {},
   "outputs": [],
   "source": [
    "total_dataset = pd.concat([data['Close'], test_data['Close']])\n"
   ]
  },
  {
   "cell_type": "code",
   "execution_count": 9,
   "metadata": {},
   "outputs": [],
   "source": [
    "model_inputs = total_dataset[len(total_dataset)- len(test_data) - prediction_days:].values\n",
    "model_inputs = model_inputs.reshape(-1, 1)\n",
    "model_inputs = scaler.transform(model_inputs)"
   ]
  },
  {
   "cell_type": "code",
   "execution_count": 10,
   "metadata": {},
   "outputs": [],
   "source": [
    "x_test = []\n",
    "\n",
    "for x in range(prediction_days, len(model_inputs)):\n",
    "    x_test.append(model_inputs[x - prediction_days:x, 0])\n",
    "\n",
    "x_test = np.array(x_test)\n",
    "x_test = np.reshape(x_test, (x_test.shape[0], x_test.shape[1], 1))"
   ]
  },
  {
   "cell_type": "code",
   "execution_count": 11,
   "metadata": {},
   "outputs": [],
   "source": [
    "predicted_prices = model.predict(x_test)\n",
    "predicted_prices = scaler.inverse_transform(predicted_prices)"
   ]
  },
  {
   "cell_type": "code",
   "execution_count": 12,
   "metadata": {},
   "outputs": [
    {
     "data": {
      "image/png": "[encoded data removed]",
      "text/plain": [
       "<Figure size 432x288 with 1 Axes>"
      ]
     },
     "metadata": {
      "needs_background": "light"
     },
     "output_type": "display_data"
    }
   ],
   "source": [
    "plt.plot(actual_prices, color= \"black\", label= f\"Actual {company} Prices: \")\n",
    "plt.plot(predicted_prices, color= \"green\", label= f\"Predicted {company} Prices: \")\n",
    "plt.title(f\"{company} Share prices: \")\n",
    "plt.xlabel(\"Time\")\n",
    "plt.ylabel(f\"{company} Share prices\")\n",
    "plt.show()\n"
   ]
  },
  {
   "cell_type": "code",
   "execution_count": 13,
   "metadata": {},
   "outputs": [],
   "source": [
    "real_data = [model_inputs[len(model_inputs) - prediction_days: (len(model_inputs) + 1), 0]]\n",
    "real_data = np.array(real_data)\n",
    "real_data = np.reshape(real_data, (real_data.shape[0], real_data.shape[1], 1))\n"
   ]
  },
  {
   "cell_type": "code",
   "execution_count": 14,
   "metadata": {},
   "outputs": [
    {
     "name": "stdout",
     "output_type": "stream",
     "text": [
      "Prediction: [[150.51735]]\n"
     ]
    }
   ],
   "source": [
    "prediction = model.predict(real_data)\n",
    "prediction = scaler.inverse_transform(prediction)\n",
    "print(f\"Prediction: {prediction}\")\n"
   ]
  }
 ],
 "metadata": {
  "interpreter": {
   "hash": "8f041cf80603e7de127377af61a87b65cfcdf4f1e142263b21bba83a8b1cb8a8"
  },
  "kernelspec": {
   "display_name": "Python 3.10.2 64-bit",
   "language": "python",
   "name": "python3"
  },
  "language_info": {
   "codemirror_mode": {
    "name": "ipython",
    "version": 3
   },
   "file_extension": ".py",
   "mimetype": "text/x-python",
   "name": "python",
   "nbconvert_exporter": "python",
   "pygments_lexer": "ipython3",
   "version": "3.10.2"
  },
  "orig_nbformat": 4
 },
 "nbformat": 4,
 "nbformat_minor": 2
}
